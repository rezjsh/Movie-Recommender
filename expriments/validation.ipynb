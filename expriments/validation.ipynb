{
 "cells": [
  {
   "cell_type": "code",
   "execution_count": 4,
   "metadata": {},
   "outputs": [
    {
     "data": {
      "text/plain": [
       "'e:\\\\PROJECTS\\\\ML\\\\Movie-Recommender\\\\expriments'"
      ]
     },
     "execution_count": 4,
     "metadata": {},
     "output_type": "execute_result"
    }
   ],
   "source": [
    "%pwd"
   ]
  },
  {
   "cell_type": "code",
   "execution_count": 5,
   "metadata": {},
   "outputs": [
    {
     "name": "stdout",
     "output_type": "stream",
     "text": [
      "e:\\PROJECTS\\ML\\Movie-Recommender\n"
     ]
    },
    {
     "name": "stderr",
     "output_type": "stream",
     "text": [
      "e:\\PROJECTS\\ML\\Movie-Recommender\\envs\\Lib\\site-packages\\IPython\\core\\magics\\osm.py:417: UserWarning: This is now an optional IPython functionality, setting dhist requires you to install the `pickleshare` library.\n",
      "  self.shell.db['dhist'] = compress_dhist(dhist)[-100:]\n"
     ]
    }
   ],
   "source": [
    "%cd .."
   ]
  },
  {
   "cell_type": "code",
   "execution_count": 6,
   "metadata": {},
   "outputs": [
    {
     "data": {
      "text/plain": [
       "'e:\\\\PROJECTS\\\\ML\\\\Movie-Recommender'"
      ]
     },
     "execution_count": 6,
     "metadata": {},
     "output_type": "execute_result"
    }
   ],
   "source": [
    "%pwd"
   ]
  },
  {
   "cell_type": "code",
   "execution_count": 28,
   "metadata": {},
   "outputs": [],
   "source": [
    "import os\n",
    "from pathlib import Path\n",
    "import pandas as pd\n",
    "from dataclasses import dataclass,field\n",
    "from movieRecommender.logging import logger\n",
    "from typing import List, Dict\n",
    "\n",
    "@dataclass\n",
    "class ValidationConfig:\n",
    "    root_dir: Path\n",
    "    dataset_name: str\n",
    "    required_columns: List[str]\n",
    "    data_types: Dict[str, type]\n",
    "    report_file: str = field(init=False)\n",
    "\n",
    "    def __post_init__(self):\n",
    "        self.report_file = os.path.join(self.root_dir, f\"{self.dataset_name}_validation_report.txt\")\n",
    "\n",
    "    def validate_dataset(self) -> bool:\n",
    "        \"\"\"Validate the dataset based on the configuration.\"\"\"\n",
    "        dataset_path = os.path.join(self.root_dir, self.dataset_name)\n",
    "        if not os.path.exists(dataset_path):\n",
    "            logger.error(f\"Dataset not found at {dataset_path}\")\n",
    "            self.write_report(f\"Dataset not found at {dataset_path}\")\n",
    "            return False\n",
    "\n",
    "        # Get a list of all CSV files in the dataset directory\n",
    "        csv_files = [f for f in os.listdir(dataset_path) if f.endswith('.csv')]\n",
    "\n",
    "        if not csv_files:\n",
    "            logger.error(f\"No CSV files found in {dataset_path}\")\n",
    "            self.write_report(f\"No CSV files found in {dataset_path}\")\n",
    "            return False\n",
    "\n",
    "        # Validate each CSV file\n",
    "        for csv_file in csv_files:\n",
    "            file_path = os.path.join(dataset_path, csv_file)\n",
    "            logger.info(f\"Validating {csv_file}\")\n",
    "            data = pd.read_csv(file_path)\n",
    "\n",
    "            if not self.validate_columns(data):\n",
    "                return False\n",
    "            if not self.validate_data_types(data):\n",
    "                return False\n",
    "\n",
    "        logger.info(\"Dataset validation successful!\")\n",
    "        self.write_report(\"Dataset validation successful!\")\n",
    "        return True\n",
    "\n",
    "    def validate_columns(self, data: pd.DataFrame) -> bool:\n",
    "        \"\"\"Validate the required columns in the dataset.\"\"\"\n",
    "        missing_columns = [col for col in self.required_columns if col not in data.columns]\n",
    "        if missing_columns:\n",
    "            logger.error(f\"Missing required columns in {data.shape[0]} rows: {', '.join(missing_columns)}\")\n",
    "            self.write_report(f\"Missing required columns in {data.shape[0]} rows: {', '.join(missing_columns)}\")\n",
    "            return False\n",
    "        return True\n",
    "\n",
    "    def validate_data_types(self, data: pd.DataFrame) -> bool:\n",
    "        \"\"\"Validate the data types of the columns in the dataset.\"\"\"\n",
    "        for column, data_type in self.data_types.items():\n",
    "            if column not in data.columns:\n",
    "                continue\n",
    "            if data[column].dtype != data_type:\n",
    "                logger.error(f\"Invalid data type for column '{column}' in {data.shape[0]} rows. Expected: {data_type}, Actual: {data[column].dtype}\")\n",
    "                self.write_report(f\"Invalid data type for column '{column}' in {data.shape[0]} rows. Expected: {data_type}, Actual: {data[column].dtype}\")\n",
    "                return False\n",
    "        return True\n",
    "    \n",
    "    def write_report(self, message: str):\n",
    "        \"\"\"Write the validation report to a file.\"\"\"\n",
    "        with open(self.report_file, \"a\") as f:\n",
    "            f.write(message + \"\\n\")\n"
   ]
  },
  {
   "cell_type": "code",
   "execution_count": null,
   "metadata": {},
   "outputs": [],
   "source": []
  },
  {
   "cell_type": "code",
   "execution_count": 29,
   "metadata": {},
   "outputs": [],
   "source": [
    "from movieRecommender.constants import *\n",
    "from movieRecommender.utils.common import load_config, create_directories\n",
    "class ConfigHandler:\n",
    "    def __init__(self, file_path=CONFIG_FILE_PATH, params_path=PARAMS_FILE_PATH):\n",
    "        self.config = load_config(file_path)\n",
    "\n",
    "    def get_validation_config(self, dataset_name: str) -> ValidationConfig:\n",
    "        config = self.config.validate_dataset[dataset_name]\n",
    "        validation_config = ValidationConfig(\n",
    "            root_dir=self.config.validate_dataset.root_dir,\n",
    "            dataset_name=self.config.validate_dataset.dataset_name,\n",
    "            required_columns=config.required_columns,\n",
    "            data_types=config.data_types\n",
    "        )\n",
    "        return validation_config\n"
   ]
  },
  {
   "cell_type": "code",
   "execution_count": 30,
   "metadata": {},
   "outputs": [
    {
     "name": "stdout",
     "output_type": "stream",
     "text": [
      "[2024-05-03 19:53:24,974: INFO: common: Yaml file: config\\config.yaml loaded successfully]\n",
      "[2024-05-03 19:53:24,979: INFO: 1920351: Validating tmdb_5000_credits.csv]\n"
     ]
    },
    {
     "name": "stdout",
     "output_type": "stream",
     "text": [
      "[2024-05-03 19:53:25,681: ERROR: 1920351: Invalid data type for column 'movie_id' in 4803 rows. Expected: int, Actual: int64]\n",
      "[2024-05-03 19:53:25,691: INFO: 1920351: Validating tmdb_5000_credits.csv]\n",
      "[2024-05-03 19:53:26,394: ERROR: 1920351: Missing required columns in 4803 rows: budget, genres, homepage, id, keywords, original_language, original_title, overview, popularity, production_companies, production_countries, release_date, revenue, runtime, spoken_languages, status, tagline, vote_average, vote_count]\n"
     ]
    }
   ],
   "source": [
    "try:\n",
    "    config = ConfigHandler()\n",
    "    validation_config_credits = config.get_validation_config(\"tmdb_5000_credits\")\n",
    "    validation_config_credits.validate_dataset()\n",
    "\n",
    "    validation_config_movies = config.get_validation_config(\"tmdb_5000_movies\")\n",
    "    validation_config_movies.validate_dataset()\n",
    "except Exception as e:\n",
    "    raise e\n"
   ]
  },
  {
   "cell_type": "markdown",
   "metadata": {},
   "source": []
  }
 ],
 "metadata": {
  "kernelspec": {
   "display_name": "Python 3",
   "language": "python",
   "name": "python3"
  },
  "language_info": {
   "codemirror_mode": {
    "name": "ipython",
    "version": 3
   },
   "file_extension": ".py",
   "mimetype": "text/x-python",
   "name": "python",
   "nbconvert_exporter": "python",
   "pygments_lexer": "ipython3",
   "version": "3.12.0"
  }
 },
 "nbformat": 4,
 "nbformat_minor": 2
}
